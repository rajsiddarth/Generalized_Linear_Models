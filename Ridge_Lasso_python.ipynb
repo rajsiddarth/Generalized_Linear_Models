{
 "cells": [
  {
   "cell_type": "code",
   "execution_count": 7,
   "metadata": {
    "collapsed": false
   },
   "outputs": [
    {
     "data": {
      "text/html": [
       "<div>\n",
       "<table border=\"1\" class=\"dataframe\">\n",
       "  <thead>\n",
       "    <tr style=\"text-align: right;\">\n",
       "      <th></th>\n",
       "      <th>City</th>\n",
       "      <th>NoOfChildren</th>\n",
       "      <th>MinAgeOfChild</th>\n",
       "      <th>MaxAgeOfChild</th>\n",
       "      <th>Tenure</th>\n",
       "      <th>FrquncyOfPurchase</th>\n",
       "      <th>NoOfUnitsPurchased</th>\n",
       "      <th>FrequencyOFPlay</th>\n",
       "      <th>NoOfGamesPlayed</th>\n",
       "      <th>NoOfGamesBought</th>\n",
       "      <th>FavoriteChannelOfTransaction</th>\n",
       "      <th>FavoriteGame</th>\n",
       "      <th>TotalRevenueGenerated</th>\n",
       "    </tr>\n",
       "  </thead>\n",
       "  <tbody>\n",
       "    <tr>\n",
       "      <th>0</th>\n",
       "      <td>1</td>\n",
       "      <td>2</td>\n",
       "      <td>3</td>\n",
       "      <td>8</td>\n",
       "      <td>210</td>\n",
       "      <td>11</td>\n",
       "      <td>11</td>\n",
       "      <td>2344</td>\n",
       "      <td>108</td>\n",
       "      <td>10</td>\n",
       "      <td>Uniform</td>\n",
       "      <td>Uniform</td>\n",
       "      <td>107.51</td>\n",
       "    </tr>\n",
       "    <tr>\n",
       "      <th>1</th>\n",
       "      <td>1</td>\n",
       "      <td>2</td>\n",
       "      <td>3</td>\n",
       "      <td>6</td>\n",
       "      <td>442</td>\n",
       "      <td>20</td>\n",
       "      <td>20</td>\n",
       "      <td>245</td>\n",
       "      <td>22</td>\n",
       "      <td>7</td>\n",
       "      <td>Favorite</td>\n",
       "      <td>Uniform</td>\n",
       "      <td>382.40</td>\n",
       "    </tr>\n",
       "    <tr>\n",
       "      <th>2</th>\n",
       "      <td>1</td>\n",
       "      <td>4</td>\n",
       "      <td>3</td>\n",
       "      <td>5</td>\n",
       "      <td>424</td>\n",
       "      <td>18</td>\n",
       "      <td>18</td>\n",
       "      <td>1059</td>\n",
       "      <td>130</td>\n",
       "      <td>18</td>\n",
       "      <td>Favorite</td>\n",
       "      <td>Uniform</td>\n",
       "      <td>135.01</td>\n",
       "    </tr>\n",
       "    <tr>\n",
       "      <th>3</th>\n",
       "      <td>1</td>\n",
       "      <td>1</td>\n",
       "      <td>6</td>\n",
       "      <td>6</td>\n",
       "      <td>261</td>\n",
       "      <td>11</td>\n",
       "      <td>9</td>\n",
       "      <td>365</td>\n",
       "      <td>34</td>\n",
       "      <td>11</td>\n",
       "      <td>Favorite</td>\n",
       "      <td>Uniform</td>\n",
       "      <td>125.00</td>\n",
       "    </tr>\n",
       "    <tr>\n",
       "      <th>4</th>\n",
       "      <td>1</td>\n",
       "      <td>3</td>\n",
       "      <td>6</td>\n",
       "      <td>9</td>\n",
       "      <td>422</td>\n",
       "      <td>44</td>\n",
       "      <td>31</td>\n",
       "      <td>1066</td>\n",
       "      <td>102</td>\n",
       "      <td>44</td>\n",
       "      <td>Uniform</td>\n",
       "      <td>Uniform</td>\n",
       "      <td>335.05</td>\n",
       "    </tr>\n",
       "  </tbody>\n",
       "</table>\n",
       "</div>"
      ],
      "text/plain": [
       "   City  NoOfChildren  MinAgeOfChild  MaxAgeOfChild  Tenure  \\\n",
       "0     1             2              3              8     210   \n",
       "1     1             2              3              6     442   \n",
       "2     1             4              3              5     424   \n",
       "3     1             1              6              6     261   \n",
       "4     1             3              6              9     422   \n",
       "\n",
       "   FrquncyOfPurchase  NoOfUnitsPurchased  FrequencyOFPlay  NoOfGamesPlayed  \\\n",
       "0                 11                  11             2344              108   \n",
       "1                 20                  20              245               22   \n",
       "2                 18                  18             1059              130   \n",
       "3                 11                   9              365               34   \n",
       "4                 44                  31             1066              102   \n",
       "\n",
       "   NoOfGamesBought FavoriteChannelOfTransaction FavoriteGame  \\\n",
       "0               10                      Uniform      Uniform   \n",
       "1                7                     Favorite      Uniform   \n",
       "2               18                     Favorite      Uniform   \n",
       "3               11                     Favorite      Uniform   \n",
       "4               44                      Uniform      Uniform   \n",
       "\n",
       "   TotalRevenueGenerated  \n",
       "0                 107.51  \n",
       "1                 382.40  \n",
       "2                 135.01  \n",
       "3                 125.00  \n",
       "4                 335.05  "
      ]
     },
     "execution_count": 7,
     "metadata": {},
     "output_type": "execute_result"
    }
   ],
   "source": [
    "#Reading file\n",
    "url=\"https://raw.githubusercontent.com/rajsiddarth119/Generalized_Linear_Models/master/CustomerData.csv\"\n",
    "import pandas as pd\n",
    "data=pd.read_csv(url,header=0).dropna()\n",
    "#Dropping ID column\n",
    "data.drop(['CustomerID'],inplace=True,axis=1)\n",
    "data.head()"
   ]
  },
  {
   "cell_type": "code",
   "execution_count": 8,
   "metadata": {
    "collapsed": false
   },
   "outputs": [
    {
     "data": {
      "text/plain": [
       "City                              int64\n",
       "NoOfChildren                      int64\n",
       "MinAgeOfChild                     int64\n",
       "MaxAgeOfChild                     int64\n",
       "Tenure                            int64\n",
       "FrquncyOfPurchase                 int64\n",
       "NoOfUnitsPurchased                int64\n",
       "FrequencyOFPlay                   int64\n",
       "NoOfGamesPlayed                   int64\n",
       "NoOfGamesBought                   int64\n",
       "FavoriteChannelOfTransaction     object\n",
       "FavoriteGame                     object\n",
       "TotalRevenueGenerated           float64\n",
       "dtype: object"
      ]
     },
     "execution_count": 8,
     "metadata": {},
     "output_type": "execute_result"
    }
   ],
   "source": [
    "data.dtypes"
   ]
  },
  {
   "cell_type": "code",
   "execution_count": 9,
   "metadata": {
    "collapsed": false
   },
   "outputs": [
    {
     "data": {
      "text/html": [
       "<div>\n",
       "<table border=\"1\" class=\"dataframe\">\n",
       "  <thead>\n",
       "    <tr style=\"text-align: right;\">\n",
       "      <th></th>\n",
       "      <th>City_1</th>\n",
       "      <th>City_2</th>\n",
       "      <th>FavoriteChannelOfTransaction_Favorite</th>\n",
       "      <th>FavoriteChannelOfTransaction_Uniform</th>\n",
       "      <th>FavoriteGame_Favorite</th>\n",
       "      <th>FavoriteGame_NONE</th>\n",
       "      <th>FavoriteGame_Uniform</th>\n",
       "    </tr>\n",
       "  </thead>\n",
       "  <tbody>\n",
       "    <tr>\n",
       "      <th>0</th>\n",
       "      <td>1.0</td>\n",
       "      <td>0.0</td>\n",
       "      <td>0.0</td>\n",
       "      <td>1.0</td>\n",
       "      <td>0.0</td>\n",
       "      <td>0.0</td>\n",
       "      <td>1.0</td>\n",
       "    </tr>\n",
       "    <tr>\n",
       "      <th>1</th>\n",
       "      <td>1.0</td>\n",
       "      <td>0.0</td>\n",
       "      <td>1.0</td>\n",
       "      <td>0.0</td>\n",
       "      <td>0.0</td>\n",
       "      <td>0.0</td>\n",
       "      <td>1.0</td>\n",
       "    </tr>\n",
       "    <tr>\n",
       "      <th>2</th>\n",
       "      <td>1.0</td>\n",
       "      <td>0.0</td>\n",
       "      <td>1.0</td>\n",
       "      <td>0.0</td>\n",
       "      <td>0.0</td>\n",
       "      <td>0.0</td>\n",
       "      <td>1.0</td>\n",
       "    </tr>\n",
       "    <tr>\n",
       "      <th>3</th>\n",
       "      <td>1.0</td>\n",
       "      <td>0.0</td>\n",
       "      <td>1.0</td>\n",
       "      <td>0.0</td>\n",
       "      <td>0.0</td>\n",
       "      <td>0.0</td>\n",
       "      <td>1.0</td>\n",
       "    </tr>\n",
       "    <tr>\n",
       "      <th>4</th>\n",
       "      <td>1.0</td>\n",
       "      <td>0.0</td>\n",
       "      <td>0.0</td>\n",
       "      <td>1.0</td>\n",
       "      <td>0.0</td>\n",
       "      <td>0.0</td>\n",
       "      <td>1.0</td>\n",
       "    </tr>\n",
       "  </tbody>\n",
       "</table>\n",
       "</div>"
      ],
      "text/plain": [
       "   City_1  City_2  FavoriteChannelOfTransaction_Favorite  \\\n",
       "0     1.0     0.0                                    0.0   \n",
       "1     1.0     0.0                                    1.0   \n",
       "2     1.0     0.0                                    1.0   \n",
       "3     1.0     0.0                                    1.0   \n",
       "4     1.0     0.0                                    0.0   \n",
       "\n",
       "   FavoriteChannelOfTransaction_Uniform  FavoriteGame_Favorite  \\\n",
       "0                                   1.0                    0.0   \n",
       "1                                   0.0                    0.0   \n",
       "2                                   0.0                    0.0   \n",
       "3                                   0.0                    0.0   \n",
       "4                                   1.0                    0.0   \n",
       "\n",
       "   FavoriteGame_NONE  FavoriteGame_Uniform  \n",
       "0                0.0                   1.0  \n",
       "1                0.0                   1.0  \n",
       "2                0.0                   1.0  \n",
       "3                0.0                   1.0  \n",
       "4                0.0                   1.0  "
      ]
     },
     "execution_count": 9,
     "metadata": {},
     "output_type": "execute_result"
    }
   ],
   "source": [
    "#Converting city to factors\n",
    "data['City']=data['City'].astype('category')\n",
    "#Converting City,FavoriteChannelOfTransaction,FavoriteGame using dummies\n",
    "dummy_data=pd.get_dummies(data[['City','FavoriteChannelOfTransaction','FavoriteGame']])\n",
    "dummy_data.head()"
   ]
  },
  {
   "cell_type": "code",
   "execution_count": 10,
   "metadata": {
    "collapsed": false
   },
   "outputs": [
    {
     "data": {
      "text/plain": [
       "NoOfChildren                               int64\n",
       "MinAgeOfChild                              int64\n",
       "MaxAgeOfChild                              int64\n",
       "Tenure                                     int64\n",
       "FrquncyOfPurchase                          int64\n",
       "NoOfUnitsPurchased                         int64\n",
       "FrequencyOFPlay                            int64\n",
       "NoOfGamesPlayed                            int64\n",
       "NoOfGamesBought                            int64\n",
       "TotalRevenueGenerated                    float64\n",
       "City_1                                   float64\n",
       "City_2                                   float64\n",
       "FavoriteChannelOfTransaction_Favorite    float64\n",
       "FavoriteChannelOfTransaction_Uniform     float64\n",
       "FavoriteGame_Favorite                    float64\n",
       "FavoriteGame_NONE                        float64\n",
       "FavoriteGame_Uniform                     float64\n",
       "dtype: object"
      ]
     },
     "execution_count": 10,
     "metadata": {},
     "output_type": "execute_result"
    }
   ],
   "source": [
    "#Final data frame\n",
    "data.drop(['City','FavoriteChannelOfTransaction','FavoriteGame'],inplace=True,axis=1)\n",
    "final_data=pd.concat([data,dummy_data],axis=1)\n",
    "final_data.dtypes"
   ]
  },
  {
   "cell_type": "code",
   "execution_count": 11,
   "metadata": {
    "collapsed": false
   },
   "outputs": [],
   "source": [
    "Y=final_data.loc[:,['TotalRevenueGenerated']]\n",
    "X=final_data.loc[:,final_data.columns.difference(Y.columns)]\n",
    "\n",
    "#Splitting into train and test set\n",
    "from sklearn.model_selection import train_test_split\n",
    "X_train,X_test,y_train,y_test=train_test_split(X,Y,test_size=0.3,random_state=42)"
   ]
  },
  {
   "cell_type": "code",
   "execution_count": 12,
   "metadata": {
    "collapsed": true
   },
   "outputs": [],
   "source": [
    "#Ridge regression with initial alpha =1\n",
    "from sklearn.linear_model import Ridge\n",
    "import numpy as np\n",
    "\n",
    "ridge_model=Ridge(normalize=True,random_state=10,alpha=1,fit_intercept=True)"
   ]
  },
  {
   "cell_type": "code",
   "execution_count": 42,
   "metadata": {
    "collapsed": false
   },
   "outputs": [
    {
     "name": "stdout",
     "output_type": "stream",
     "text": [
      "MAPE on training data is : 18.830000\n",
      "MAPE on test data is : 18.680000\n"
     ]
    }
   ],
   "source": [
    "#Fitting Ridge model\n",
    "model=ridge_model.fit(X=X_train,y=y_train)\n",
    "\n",
    "#Predicting on train data\n",
    "pred=model.predict(X_train)\n",
    "pred_test=model.predict(X_test)\n",
    "\n",
    "#Error metrics on train data\n",
    "#Writing function for calculating MAPE\n",
    "from sklearn.utils import check_array\n",
    "\n",
    "def mean_absolute_percentage_error(y_true, y_pred): \n",
    "    y_true,y_pred=check_array(y_true),check_array(y_pred)\n",
    "    return np.mean(np.abs((y_true - y_pred) / y_true)) * 100\n",
    "\n",
    "print (\"MAPE on training data is : %f\" %(round(mean_absolute_percentage_error(y_train,pred),2)))\n",
    "\n",
    "#Predicting on test data\n",
    "pred_test=model.predict(X_test)\n",
    "print (\"MAPE on test data is : %f\" %(round(mean_absolute_percentage_error(y_test,pred_test),2)))\n",
    "\n"
   ]
  },
  {
   "cell_type": "code",
   "execution_count": 43,
   "metadata": {
    "collapsed": false
   },
   "outputs": [
    {
     "name": "stdout",
     "output_type": "stream",
     "text": [
      "[[ -4.34606988e+00   4.34606988e+00   7.43609049e+00  -7.43609049e+00\n",
      "    3.89775990e+00   1.73916110e+01  -6.65328460e+00   2.75234709e-03\n",
      "    9.39636721e+00  -2.32417300e-01   1.00458613e+00   2.82972964e+00\n",
      "   -1.05233634e+01  -2.89703697e-02   9.31769779e+00  -1.49253342e-02]]\n",
      "alpha value is 0.005000\n"
     ]
    }
   ],
   "source": [
    "#For different values of alpha : grid search\n",
    "alp=10**np.linspace(10,-2,100)*0.5\n",
    "\n",
    "from sklearn.linear_model import RidgeCV\n",
    "modelCV=RidgeCV(alphas=alp,normalize=True)\n",
    "modelCV.fit(X_train,y_train)\n",
    "print (modelCV.coef_)\n",
    "print (\"alpha value is %f\"%(modelCV.alpha_))"
   ]
  },
  {
   "cell_type": "code",
   "execution_count": 44,
   "metadata": {
    "collapsed": false
   },
   "outputs": [
    {
     "name": "stdout",
     "output_type": "stream",
     "text": [
      "GridSearchCV(cv=None, error_score='raise',\n",
      "       estimator=Ridge(alpha=0.0050000000000000001, copy_X=True, fit_intercept=True,\n",
      "   max_iter=None, normalize=True, random_state=10, solver='auto',\n",
      "   tol=0.001),\n",
      "       fit_params={}, iid=True, n_jobs=1,\n",
      "       param_grid={'alpha': array([  5.00000e+09,   3.78232e+09, ...,   6.60971e-03,   5.00000e-03])},\n",
      "       pre_dispatch='2*n_jobs', refit=True, return_train_score=True,\n",
      "       scoring=None, verbose=0)\n",
      "0.693745113698\n",
      "0.005\n"
     ]
    }
   ],
   "source": [
    "#Grid Search Method 2\n",
    "from sklearn.model_selection import GridSearchCV\n",
    "grid = GridSearchCV(estimator=model, param_grid=dict(alpha=alp))\n",
    "grid.fit(X_train,y_train)\n",
    "print(grid)\n",
    "# summarize the results of the grid search\n",
    "print(grid.best_score_)\n",
    "print(grid.best_estimator_.alpha)"
   ]
  },
  {
   "cell_type": "code",
   "execution_count": 45,
   "metadata": {
    "collapsed": false
   },
   "outputs": [
    {
     "name": "stdout",
     "output_type": "stream",
     "text": [
      "MAPE on training data is : 18.830000\n",
      "MAPE on test data is : 18.680000\n"
     ]
    }
   ],
   "source": [
    "#Training Model with best alpha value\n",
    "ridge_model=Ridge(normalize=True,random_state=10,alpha=modelCV.alpha_,fit_intercept=True)\n",
    "\n",
    "#Fitting Ridge model\n",
    "model2=ridge_model.fit(X=X_train,y=y_train)\n",
    "\n",
    "#Predicting on train data\n",
    "pred2=model2.predict(X_train)\n",
    "pred_test2=model2.predict(X_test)\n",
    "\n",
    "#Error metrics on train data\n",
    "\n",
    "print (\"MAPE on training data is : %f\" %(round(mean_absolute_percentage_error(y_train,pred2),2)))\n",
    "\n",
    "#Predicting on test data\n",
    "pred_test2=model2.predict(X_test)\n",
    "print (\"MAPE on test data is : %f\" %(round(mean_absolute_percentage_error(y_test,pred_test2),2)))\n",
    "\n"
   ]
  },
  {
   "cell_type": "markdown",
   "metadata": {},
   "source": [
    "Implementation of lasso is similar to Ridge regression"
   ]
  },
  {
   "cell_type": "code",
   "execution_count": 66,
   "metadata": {
    "collapsed": false
   },
   "outputs": [
    {
     "name": "stdout",
     "output_type": "stream",
     "text": [
      "[ -8.69903784e+00   1.20886707e-16   1.46903308e+01  -0.00000000e+00\n",
      "   0.00000000e+00   1.10986580e+01  -9.38753674e+00   2.29464522e-03\n",
      "   9.90793257e+00  -1.80225839e-01   8.97800204e-01   2.34466378e+00\n",
      "  -1.09232707e+01  -1.79010018e-02   9.15679817e+00  -1.23723497e-02]\n",
      "alpha value is 0.005000\n",
      "MAPE on training data is : 42.430000\n",
      "MAPE on test data is : 42.310000\n"
     ]
    }
   ],
   "source": [
    "#Lasso Regression\n",
    "from sklearn.linear_model import Lasso,LassoCV\n",
    "import numpy as np\n",
    "LassoCV_model=LassoCV(alphas=alp,normalize=True)\n",
    "LassoCV_model.fit(X_train,y_train)\n",
    "print (LassoCV_model.coef_)\n",
    "print (\"alpha value is %f\"%(LassoCV_model.alpha_))\n",
    "\n",
    "#Training Lasso Model with best alpha value\n",
    "Lasso_model=Lasso(normalize=True,random_state=10,alpha=LassoCV_model.alpha_,fit_intercept=True)\n",
    "\n",
    "#Fitting Ridge model\n",
    "model5=Lasso_model.fit(X=X_train,y=y_train)\n",
    "\n",
    "#Predicting on train data\n",
    "pred5=model5.predict(X_train)\n",
    "pred_test5=model5.predict(X_test)\n",
    "\n",
    "#Error metrics on train data\n",
    "\n",
    "print (\"MAPE on training data is : %f\" %(round(mean_absolute_percentage_error(y_train,pred5),2)))\n",
    "\n",
    "#Predicting on test data\n",
    "\n",
    "print (\"MAPE on test data is : %f\" %(round(mean_absolute_percentage_error(y_test,pred_test5),2)))\n",
    "import warnings\n",
    "warnings.filterwarnings(\"ignore\")\n"
   ]
  },
  {
   "cell_type": "code",
   "execution_count": 65,
   "metadata": {
    "collapsed": false
   },
   "outputs": [
    {
     "name": "stdout",
     "output_type": "stream",
     "text": [
      "MAPE on training data is : 33.650000\n",
      "MAPE on test data is : 33.400000\n"
     ]
    }
   ],
   "source": [
    "#Model with Elastic net Regularization\n",
    "\n",
    "from sklearn.linear_model import ElasticNetCV\n",
    "\n",
    "\n",
    "#Training Model with best alpha value\n",
    "elastic_model=ElasticNetCV(alphas=alp,random_state=12,normalize=True)\n",
    "\n",
    "#Fitting Ridge model\n",
    "model3=elastic_model.fit(X=X_train,y=y_train)\n",
    "\n",
    "#Predicting on train data\n",
    "pred3,pred_test3=model3.predict(X_train),model3.predict(X_test)\n",
    "\n",
    "#Error metrics on train data\n",
    "\n",
    "print (\"MAPE on training data is : %f\" %(round(mean_absolute_percentage_error(y_train,pred3),2)))\n",
    "\n",
    "#Predicting on test data\n",
    "pred_test2=model2.predict(X_test)\n",
    "print (\"MAPE on test data is : %f\" %(round(mean_absolute_percentage_error(y_test,pred_test3),2)))\n",
    "model3.alpha_\n",
    "model3.coef_\n",
    "warnings.filterwarnings(\"ignore\")"
   ]
  }
 ],
 "metadata": {
  "anaconda-cloud": {},
  "kernelspec": {
   "display_name": "Python [conda root]",
   "language": "python",
   "name": "conda-root-py"
  },
  "language_info": {
   "codemirror_mode": {
    "name": "ipython",
    "version": 2
   },
   "file_extension": ".py",
   "mimetype": "text/x-python",
   "name": "python",
   "nbconvert_exporter": "python",
   "pygments_lexer": "ipython2",
   "version": "2.7.12"
  }
 },
 "nbformat": 4,
 "nbformat_minor": 1
}
